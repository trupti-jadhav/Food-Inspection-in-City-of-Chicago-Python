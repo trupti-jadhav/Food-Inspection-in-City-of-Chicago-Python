{
 "cells": [
  {
   "cell_type": "markdown",
   "metadata": {},
   "source": [
    "## EAS 503 Homework 1 Submission\n",
    "Name - _Enter your name here_\n",
    "\n",
    "**Make sure that you rename the notebook file to *replacewithubitname*_eas503_hw1.ipynb**\n",
    "\n",
    "\n",
    "### Submission Details\n",
    "* **Due Date** - September 26, 2017 by 11.59 PM PST. All assignments have to be submitted using UBLearns.\n",
    "* **Number of Problems** - 4\n",
    "* **Maximum points** - 50\n",
    "* **Collaboration policy**\n",
    " - Every student has to submit individual homeworks\n",
    " - Any collaboration, in the form of discussion, with other members of the class is permitted, as long as the names of the collaborating members are explicitly stated on top of the submitted homework.\n",
    " - Any overlap with another submission or material from Internet will be awarded an F.\n",
    "* **Late submission policy** - _No late submissions allowed_\n",
    "* **Submission Format** - Enter code for each problem in the appropriate cell below. You may use multiple cells for a single problem to improve readability."
   ]
  },
  {
   "cell_type": "markdown",
   "metadata": {},
   "source": [
    "### Problem 1 - Testing for Primes (10 Points)\n",
    "Test if a number is prime using `if-else` conditions. Using the developed code, create a list of first 50 prime numbers. Try designing the shortest possible algorithm and record the time taken for the code to run.\n",
    "\n",
    "You will need to define a function `primeTester`, which takes no inputs. The function should return a Python `list` of length 50, with first 50 prime numbers. The function should also output (on the screen), the total time taken to generate the 50 prime numbers. Use the `time` library (as shown in class) for capturing the elapsed time."
   ]
  },
  {
   "cell_type": "code",
   "execution_count": 39,
   "metadata": {},
   "outputs": [
    {
     "name": "stdout",
     "output_type": "stream",
     "text": [
      "****The 1st 50 prime numbers are as follows****\n",
      "[2, 3, 5, 7, 11, 13, 17, 19, 23, 29, 31, 37, 41, 43, 47, 53, 59, 61, 67, 71, 73, 79, 83, 89, 97, 101, 103, 107, 109, 113, 127, 131, 137, 139, 149, 151, 157, 163, 167, 173, 179, 181, 191, 193, 197, 199, 211, 223, 227, 229]\n",
      "Total time taken\n",
      "0.0039997100830078125\n",
      "Enter the number to be tested\n",
      "55451\n",
      "The given number is not prime\n"
     ]
    }
   ],
   "source": [
    "# Enter your solution here\n",
    "import time \n",
    "def primeTester():\n",
    "    flag = True\n",
    "    read = int(input(\"Enter the number to be tested\\n\"))\n",
    "    for i in range(2,read):\n",
    "        if (read%i == 0):\n",
    "            flag = False\n",
    "            break\n",
    "    if(flag):\n",
    "         print(\"The given number is prime\")\n",
    "    else:  \n",
    "         print(\"The given number is not prime\")\n",
    "            \n",
    " # Printing first 50 prime numbers\n",
    "\n",
    "pythonList = []          \n",
    "count = 2               \n",
    "t = time.time()       \n",
    "for i in range(2,1500): \n",
    "    counter = 0\n",
    "    for j in range(1,i+1):\n",
    "        if(i%j == 0):\n",
    "            counter = counter + 1;\n",
    "   #print(counter)\n",
    "    if(counter == 2):\n",
    "        pythonList.append(i)\n",
    "       \n",
    "    if(len(pythonList) == 50):\n",
    "         break\n",
    "s = time.time()\n",
    "print(\"****The 1st 50 prime numbers are as follows****\")            \n",
    "print(pythonList)\n",
    "print(\"Total time taken\")\n",
    "print(s-t)\n",
    "            \n",
    "primeTester()   "
   ]
  },
  {
   "cell_type": "markdown",
   "metadata": {},
   "source": [
    "### Problem 2 - Handling Exceptions (10 Points)\n",
    "In this problem we will read from a text file (**data_p2.txt**) included in the assignment. Please download it and store it in the same directory as this notebook. The code for reading data from the file is given below. You need to store the data and perform a simple mathematical operation on each data point. Each line is _supposed_ to contain a floating point number. But what you will observe is that some lines might have erroneous entries. You need to ignore those lines (Hint: Use exception handling). \n",
    "\n",
    "The idea is to write a function, `computeMean()`, which reads in a file and computes the average of the numbers and returns the output. You may use the inbuilt function `sum` when computing the mean."
   ]
  },
  {
   "cell_type": "code",
   "execution_count": 68,
   "metadata": {
    "collapsed": true
   },
   "outputs": [],
   "source": [
    "# Reading from a file. The following code just reads in every line in a text file without doing anything with it.\n",
    "# You can use the code in your solution.\n",
    "with open('data_p2.txt','r') as f: #we open the file in 'read' mode. The 'with' clause is similar to 'finally' clause\n",
    "    for line in f: #iterate over the file line by line\n",
    "        s = line.strip() #strip() removes the endline character at the end of the line. Line is of type 'str'"
   ]
  },
  {
   "cell_type": "code",
   "execution_count": 40,
   "metadata": {},
   "outputs": [
    {
     "name": "stdout",
     "output_type": "stream",
     "text": [
      "Sum = 468.2299169999998\n",
      "Mean = 0.49132205351521485\n"
     ]
    }
   ],
   "source": [
    "\n",
    "def isfloat(value):\n",
    "        try:\n",
    "            float(value)\n",
    "            return True\n",
    "        except:\n",
    "            return False\n",
    "        \n",
    "def ComputeMean():\n",
    "    l1 = []\n",
    "    l2 = []\n",
    "    count = 0\n",
    "    sum1 = 0\n",
    "    l #we open the file in 'read' mode. The 'with' clause is similar to 'finally' clause\n",
    "        for line in f: \n",
    "            s = line.strip() \n",
    "            l1.append(s)        \n",
    "\n",
    "    for i,x in enumerate(l1): \n",
    "        v = isfloat(x) \n",
    "        if(v):\n",
    "            x = float(x)\n",
    "            l2.append(x)\n",
    "            sum1 =sum1 + x\n",
    "        \n",
    "    print('Sum =',sum1)\n",
    "    mean = sum1/len(l2)\n",
    "    print('Mean =',mean)\n",
    "\n",
    "def main():\n",
    "    ComputeMean()\n",
    "\n",
    "main()\n",
    "        \n",
    "        \n",
    "    \n",
    "\n"
   ]
  },
  {
   "cell_type": "markdown",
   "metadata": {},
   "source": [
    "### Problem 3 - Benchmarking List Performance (10 Points)\n",
    "We want to check the peformance of the Python inbuilt `del` routine for dropping elements from a list. The question that we want answer for is: does the time required to delete an element from a Python list depend on the size of the list and on the location of the target element.\n",
    "\n",
    "In each step of the experiment do the following: Create a list of integers from 1 to N. Delete the $i^{th}$ element. Measure the time taken to delete the element (Hint: use the `time` package in Python).\n",
    "\n",
    "Conduct the above experiment for $N = 1000$ and $i$ ranging from 1 to 1000 in steps of 10. Make sure that you are recreating the Python list every time. Save the times in a list (let us name it `time1000`).\n",
    "\n",
    "Repeat the above experiment, but set $N = 100000$. This time, vary $i$ from 1 to 100000 in steps of 100. Save the times for this experiment in another list, say, `time100000`.\n",
    "\n",
    "Plot the two lists using the `matplotlib.pyplot` package. See below for a sample code. You can plot both lists in the same chart to compare.\n",
    "\n",
    "Using the plots, answer the following (create a markup cell after your code cell(s) and enter your responses):\n",
    "1. Does the cost of deleting an element depend on the list size?\n",
    "2. Does the cost of deleting an element depend on the location of the deleted element?\n",
    "\n"
   ]
  },
  {
   "cell_type": "code",
   "execution_count": 70,
   "metadata": {},
   "outputs": [
    {
     "data": {
      "text/plain": [
       "[<matplotlib.lines.Line2D at 0x10d219278>]"
      ]
     },
     "execution_count": 70,
     "metadata": {},
     "output_type": "execute_result"
    },
    {
     "data": {
      "image/png": "[encoded data removed]",
      "text/plain": [
       "<matplotlib.figure.Figure at 0x10d0420b8>"
      ]
     },
     "metadata": {},
     "output_type": "display_data"
    }
   ],
   "source": [
    "# Using matplotlib for plotting\n",
    "import matplotlib.pyplot as plt\n",
    "%matplotlib inline \n",
    "# above line is needed to make sure that the plots are displayed in the notebook.\n",
    "\n",
    "#generate some dummy data\n",
    "x = list(range(0, 20)) # generate a list\n",
    "y = [x1**2+2*x1 for x1 in x] # create a new list using the original list. Note the Pythonic inline creation of lists.\n",
    "y1 = [x1**2.3 for x1 in x]\n",
    "plt.plot(x,y)\n",
    "plt.plot(x,y1)"
   ]
  },
  {
   "cell_type": "code",
   "execution_count": 2,
   "metadata": {
    "scrolled": true
   },
   "outputs": [
    {
     "name": "stdout",
     "output_type": "stream",
     "text": [
      "[0.0, 0.0, 0.0, 0.0, 0.0, 0.0, 0.0, 0.0, 0.0, 0.0, 0.0, 0.004002809524536133, 0.0, 0.0040013790130615234, 0.0, 0.0, 0.0, 0.0, 0.0, 0.0, 0.0, 0.0, 0.0, 0.0, 0.0, 0.0, 0.0, 0.0, 0.0, 0.0, 0.0, 0.0, 0.0, 0.0, 0.015627145767211914, 0.0, 0.0, 0.0, 0.0, 0.0, 0.0, 0.0, 0.0, 0.0, 0.0, 0.0, 0.0, 0.0, 0.0, 0.0, 0.0, 0.0, 0.0, 0.0, 0.0, 0.0, 0.0, 0.0, 0.0, 0.0, 0.0, 0.0, 0.0, 0.0, 0.0, 0.0, 0.0, 0.0, 0.0, 0.0, 0.0, 0.0, 0.0, 0.0, 0.0, 0.0, 0.0, 0.0, 0.0, 0.0, 0.0, 0.0, 0.0, 0.0, 0.0, 0.0, 0.0, 0.0, 0.0, 0.0, 0.0, 0.0, 0.0, 0.0, 0.0, 0.0, 0.0, 0.0, 0.0]\n",
      "##################################################################\n",
      "[0.0, 0.0, 0.015630006790161133, 0.0, 0.0, 0.0, 0.015633106231689453, 0.0, 0.0, 0.01562666893005371, 0.0, 0.0, 0.01563286781311035, 0.008001089096069336, 0.0, 0.015626192092895508, 0.0, 0.0, 0.015634536743164062, 0.015631675720214844, 0.007997274398803711, 0.01563119888305664, 0.0, 0.0, 0.0, 0.01563239097595215, 0.0, 0.0, 0.0, 0.015630006790161133, 0.0, 0.0, 0.015627145767211914, 0.0, 0.01563286781311035, 0.0, 0.0, 0.0, 0.015639781951904297, 0.004033565521240234, 0.0, 0.0, 0.0, 0.008000612258911133, 0.015630006790161133, 0.0, 0.015626907348632812, 0.0040018558502197266, 0.01562976837158203, 0.0, 0.0, 0.01563572883605957, 0.0, 0.01562952995300293, 0.0, 0.0, 0.01563096046447754, 0.0, 0.015634536743164062, 0.01563286781311035, 0.0, 0.0, 0.0, 0.0, 0.01563239097595215, 0.0, 0.0, 0.0, 0.0, 0.0, 0.015633344650268555, 0.0, 0.0, 0.0, 0.0, 0.015627145767211914, 0.0, 0.0, 0.0, 0.0, 0.0, 0.0, 0.0, 0.015632152557373047, 0.0, 0.0, 0.0, 0.0, 0.0, 0.0, 0.0, 0.0, 0.0, 0.0, 0.0, 0.0, 0.0, 0.0, 0.0]\n"
     ]
    },
    {
     "data": {
      "text/plain": [
       "[<matplotlib.lines.Line2D at 0x1d90e8640f0>]"
      ]
     },
     "execution_count": 2,
     "metadata": {},
     "output_type": "execute_result"
    },
    {
     "data": {
      "image/png": "[encoded data removed]",
      "text/plain": [
       "<matplotlib.figure.Figure at 0x1d90e864eb8>"
      ]
     },
     "metadata": {},
     "output_type": "display_data"
    }
   ],
   "source": [
    "import matplotlib.pyplot as plt\n",
    "%matplotlib inline \n",
    "import time\n",
    "import numpy\n",
    "l1 = list(range(1,1000000))\n",
    "l2 = list(range(1,10000000))\n",
    "i = 1\n",
    "j = 10000\n",
    "j2 = 100000\n",
    "timeMillion = []\n",
    "time10Million = []\n",
    "\n",
    "#######################   \n",
    "while j <1000000:\n",
    "    s = time.time()\n",
    "    del(l1[j])\n",
    "    e = time.time()\n",
    "    #print(e-s)\n",
    "    timeMillion.append(e-s)\n",
    "    l1 = list(range(1,1000000))\n",
    "    j = j + 10000\n",
    "#######################\n",
    "while j2 <10000000:\n",
    "    s = time.time()\n",
    "    del(l2[j2])\n",
    "    e = time.time()\n",
    "    #print(e-s)\n",
    "    time10Million.append(e-s)\n",
    "    l2 = list(range(1,10000000))\n",
    "    j2 = j2 + 100000\n",
    "########################\n",
    "print(timeMillion)\n",
    "print(\"##################################################################\")\n",
    "print(time10Million)\n",
    "########################\n",
    "x = list(range(1,100))\n",
    "plt.plot(x,timeMillion)\n",
    "plt.plot(x,time10Million)"
   ]
  },
  {
   "cell_type": "code",
   "execution_count": null,
   "metadata": {
    "collapsed": true
   },
   "outputs": [],
   "source": [
    "#Does the cost of deleting an element depend on the list size?\n",
    "#---> From the output and the graph, for list 1(size =1000000) the time required is almost zero in major deletion as compared to\n",
    "#list 2(size = 10000000). So the cost of deleting an element depends on the list size.\n",
    "#Does the cost of deleting an element depend on the location of the deleted element?\n",
    "#----> From the graph we can see that cost of deleting an element doesn't depend on the location of the element. As some of the \n",
    "#elements earlier in the list are also taking longer time than the ones in the later part. So we cannot say that there is any \n",
    "#dependence of element location on the deletion."
   ]
  },
  {
   "cell_type": "markdown",
   "metadata": {},
   "source": [
    "### Problem 4 - The Monty Hall Problem (20 Points)\n",
    "The Monty Hall problem is an interesting and often counter-intuitive game.\n",
    "\n",
    "> Consider that you are a contestant on a game show. There are 3 closed doors. Behind one door is the car (the prize), and behind the other two doors are goats (not the prize). First you are asked to pick one door (call it door A). Without opening door A, the eponymous host of the game, Monty Hall, examines the other two doors. Monty always opens the door with a goat (call it B). If both doors had goats behind them, he picks one at random.\n",
    "\n",
    "> The game is this: _stick_ or _switch_; after finding out about the door B (and the fact that there is a goat behind it), do you stick with your original choice of door A or switch to the other unopened door, C? Statistically speaking, once you know about B, will the probability of the car to be behind C is greater than, less than, or equal to that of behind A?\n",
    "\n",
    "> Surprisingly, the odds aren't 50-50. If you switch doors you'll win 2/3 of the time!\n",
    "\n",
    "**Monty hall problem**: Implement a simulation for the Monty Hall game. Run the simulation 1000 times to figure out the empirical (observed) probability of winning when switching and winning when sticking to the original choice. Each simulation operates as follows:\n",
    "1. First randomly pick a door configuration (In an actual game, this configuration will be visible to Monty but not to the contestant). You will have to first figure out the total number of possible configurations. For example, one possibility could be GGC, which means first and second doors have goats and third door has the car. You can select one of the configuration randomly in many ways. For instance, you could use the routine `np.random.randint(0,N)` to randomly obtain an integer between 0 and $N$, where $N$ is the total number of configurations. Another option would be pick a random number between 0 and 2 and use that to assign the car to a particular door.\n",
    "2. Next, the contestant randomly picks one of the three doors as the one with the car behind it. This can also be done using the `np.random.randint()` method.\n",
    "3. Next, the host (the program - Monty) deterministically chooses which of the other two doors to open. If the contestant has chosen a door with the car, then the program can just choose the first of the two remaining doors (since both have goats behind them). Or it could be a random coin flip (again, use `np.random.randint()` method). \n",
    "4. Finally, the contestant randomly chooses to either stick or switch. The program checks if the contestant won (the chosen door does have a car behind it) or not (the chosen door has a goat behind it). In case of winning, record if the winning was because of _sticking_ or _switching_.\n",
    "\n",
    "Once the method `simulategame()` that does the above four steps and returns _sticking_, _switching_, or None, depending on the win/loss scenario, run the method 1000 times and count the number of times the win was due to _sticking_ to the decision in Step 1, and number of times the win was due to _switching_ to the other door."
   ]
  },
  {
   "cell_type": "code",
   "execution_count": 3,
   "metadata": {},
   "outputs": [
    {
     "name": "stdout",
     "output_type": "stream",
     "text": [
      "Switching the option\n",
      "Chances of winning out of 1000 trial = 689\n",
      "Therefore wining percentage = 68.9\n",
      "Chances of losing out of 1000 trial = 311\n",
      "Sticking to the option\n",
      "Chances of winning out of 1000 trial = 338\n",
      "Therefore wining percentage = 33.8\n",
      "Chances of losing out of 1000 trial = 662\n"
     ]
    }
   ],
   "source": [
    "import random as rn\n",
    "from random import randrange\n",
    "\n",
    "class MontyHallProblem:\n",
    "      #stick = True\n",
    "        def __init__(self):\n",
    "            self.car_door = rn.randint(1, 3)\n",
    "            self.door = rn.randint(1, 3)\n",
    "            #rint(self.door)\n",
    "            self.goat1 = 0;\n",
    "            self.goat2 = 0;\n",
    "            if self.car_door ==1:\n",
    "                self.goat1 = 2;\n",
    "                self.goat2 = 3;\n",
    "            elif self.car_door ==2:\n",
    "                self.goat1 = 1;\n",
    "                self.goat2 = 3;\n",
    "            elif self.car_door ==3:\n",
    "                self.goat1 = 1;\n",
    "                self.goat2 = 2;\n",
    "            #print(self.car_door,self.door,self.goat1,self.goat2)\n",
    "    \n",
    "                \n",
    "        def __switch__(self,openDoor):\n",
    "            #switches door selected my contestant to another door which is not open\n",
    "            if openDoor + self.door == 3:\n",
    "                return 3\n",
    "            if openDoor + self.door == 4:\n",
    "                return 2\n",
    "            if openDoor + self.door == 5:\n",
    "                return 1\n",
    "            \n",
    "            \n",
    "    \n",
    "        def __game__(self, stick):\n",
    "            #open one door which is not the car and is not selected by the contestant\n",
    "            openDoor = 0\n",
    "            if self.door == self.car_door:\n",
    "                a=[1,2,3]\n",
    "                #selected door and car door is 1 so now we have to select 2 or 3\n",
    "                if(self.door == a[0]):\n",
    "                    openDoor = randrange(2,3)\n",
    "                    #openDoor = a[0]\n",
    "               \n",
    "                elif(self.door == a[1]):\n",
    "                    ##car door = 2 , selected door = 2 ==> open 1 or 3\n",
    "                    x = randrange(1,2)\n",
    "                    if x == 1:\n",
    "                        openDoor = 1\n",
    "                    else:\n",
    "                        openDoor = 3\n",
    "                    #openDoor = self.door + 1\n",
    "                elif(self.door == a[2]):\n",
    "                    #car door = 1 , selected door = 1 ==> open 2 or 3\n",
    "                    openDoor = randrange(1,2)\n",
    "                    \n",
    "            elif self.car_door + self.door == 3: \n",
    "                openDoor = 3\n",
    "            elif self.car_door + self.door == 4:\n",
    "                openDoor = 2\n",
    "            elif self.car_door + self.door == 5:\n",
    "                openDoor = 1\n",
    "            elif self.car_door + self.door == 2:\n",
    "                openDoor = 1\n",
    "            elif self.car_door + self.door == 5:\n",
    "                openDoor = 1\n",
    "            \n",
    "            #ask contestant if he wishes to switch\n",
    "            \n",
    "            \n",
    "            #if yes\n",
    "            if(stick == False):\n",
    "                self.door = self.__switch__(openDoor)\n",
    "                return self.__chanceofwin__(self.door)\n",
    "            #if no\n",
    "            else:\n",
    "                return self.__chanceofwin__(self.door)\n",
    "        \n",
    "    \n",
    "        def __chanceofwin__(self,door):\n",
    "            #rint(door,self.car_door,self.goat1,self.goat2)\n",
    "            if self.car_door == door:\n",
    "                return True\n",
    "            else: \n",
    "                return False\n",
    "            \n",
    " \n",
    "class _SimulateGame:\n",
    "        \n",
    "        win = 0\n",
    "        loss = 0\n",
    "        for i in range(1000):\n",
    "            myclass = MontyHallProblem()\n",
    "          \n",
    "            if(myclass.__game__(stick = False)):\n",
    "                win = win + 1\n",
    "             \n",
    "            else:\n",
    "                loss = loss + 1\n",
    "        print(\"Switching the option\")        \n",
    "        print('Chances of winning out of 1000 trial =',win)   \n",
    "        print('Therefore wining percentage =', win/10)\n",
    "        print('Chances of losing out of 1000 trial =',loss)\n",
    "        \n",
    "        win = 0\n",
    "        loss = 0\n",
    "        for i in range(1000):\n",
    "            myclass = MontyHallProblem()\n",
    "          \n",
    "            if(myclass.__game__(stick = True)):\n",
    "                win = win + 1            \n",
    "            else:\n",
    "                loss = loss + 1\n",
    "        print(\"Sticking to the option\")        \n",
    "        print('Chances of winning out of 1000 trial =',win)\n",
    "        print('Therefore wining percentage =', win/10)\n",
    "        print('Chances of losing out of 1000 trial =',loss)"
   ]
  },
  {
   "cell_type": "code",
   "execution_count": null,
   "metadata": {
    "collapsed": true
   },
   "outputs": [],
   "source": []
  }
 ],
 "metadata": {
  "kernelspec": {
   "display_name": "Python 3",
   "language": "python",
   "name": "python3"
  },
  "language_info": {
   "codemirror_mode": {
    "name": "ipython",
    "version": 3
   },
   "file_extension": ".py",
   "mimetype": "text/x-python",
   "name": "python",
   "nbconvert_exporter": "python",
   "pygments_lexer": "ipython3",
   "version": "3.6.1"
  }
 },
 "nbformat": 4,
 "nbformat_minor": 2
}
